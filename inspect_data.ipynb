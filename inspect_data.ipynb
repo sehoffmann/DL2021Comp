{
 "cells": [
  {
   "cell_type": "code",
   "execution_count": null,
   "id": "ae7b4c3b",
   "metadata": {},
   "outputs": [],
   "source": [
    "import dlcomp.augmentations as aug\n",
    "from dlcomp.data_handling import load_train_dataset, AugmentedDataset\n",
    "import matplotlib.pyplot as plt\n",
    "import numpy as np\n",
    "from imgaug.augmentables.heatmaps import HeatmapsOnImage\n",
    "from imgaug import augmenters as iaa"
   ]
  },
  {
   "cell_type": "code",
   "execution_count": null,
   "id": "d5fc6497",
   "metadata": {},
   "outputs": [],
   "source": [
    "ds = load_train_dataset('data/train_noisy.npy', 'data/train_clean.npy')\n",
    "\n",
    "def plot_dataset(transform, start, n, m):\n",
    "    fig, axs = plt.subplots(n, 3 + m, figsize=(2*(3 + m), 2*n))\n",
    "\n",
    "    for i, ax in enumerate(axs[:, 0]):\n",
    "        x, y = ds[start + i]\n",
    "        ax.imshow(x)\n",
    "        ax.axis('off')\n",
    "\n",
    "    # augmentations\n",
    "    for j in range(m):\n",
    "        for i, ax in enumerate(axs[:, 3 + j]):\n",
    "            x, y = ds[start + i]\n",
    "            \n",
    "            if j == 0:\n",
    "                hm = HeatmapsOnImage(y.astype('f4'), shape=x.shape, min_value=0, max_value=255)\n",
    "                x, y = transform(image=x, heatmaps=hm)\n",
    "                ax_img = axs[i, 2]\n",
    "                ax_img.imshow(x)\n",
    "                ax_img.axis('off')\n",
    "                ax.imshow(y.get_arr().astype(np.uint8))\n",
    "            else:\n",
    "                ax.imshow(transform(image=x))\n",
    "                \n",
    "            ax.axis('off')\n",
    "\n",
    "    for i, ax in enumerate(axs[:, 1]):\n",
    "        x, y = ds[start + i]\n",
    "        ax.imshow(y)\n",
    "        ax.axis('off')"
   ]
  },
  {
   "cell_type": "code",
   "execution_count": null,
   "id": "63ec3cfe",
   "metadata": {},
   "outputs": [],
   "source": [
    "print(f'N: {len(ds)}')\n",
    "print(f'shape: {ds[0][0].shape}')"
   ]
  },
  {
   "cell_type": "code",
   "execution_count": null,
   "id": "a51eaf65",
   "metadata": {},
   "outputs": [],
   "source": [
    "start = 40\n",
    "n = 10\n",
    "m = 4"
   ]
  },
  {
   "cell_type": "code",
   "execution_count": null,
   "id": "6ef723d4",
   "metadata": {},
   "outputs": [],
   "source": [
    "plot_dataset(aug.baseline, start, n, m)"
   ]
  },
  {
   "cell_type": "code",
   "execution_count": null,
   "id": "1ca633be",
   "metadata": {},
   "outputs": [],
   "source": [
    "plot_dataset(aug.weak, start, n, m)"
   ]
  },
  {
   "cell_type": "code",
   "execution_count": null,
   "id": "15d2823a",
   "metadata": {},
   "outputs": [],
   "source": [
    "plot_dataset(iaa.AddToHue((-255, 255)),  start, n, m)"
   ]
  },
  {
   "cell_type": "code",
   "execution_count": null,
   "id": "9e27fde7",
   "metadata": {},
   "outputs": [],
   "source": [
    "plot_dataset(iaa.Affine(scale={\"x\": (0.9, 1.1), \"y\": (0.9, 1.1)}, translate_percent={\"x\": (-0.1, 0.1), \"y\": (-0.1, 0.1)}, mode='symmetric'), start, n, m)"
   ]
  },
  {
   "cell_type": "code",
   "execution_count": null,
   "id": "8636a619",
   "metadata": {},
   "outputs": [],
   "source": [
    "def no_shape_change():\n",
    "    return iaa.Sequential([\n",
    "        iaa.Fliplr(0.5),\n",
    "        iaa.Flipud(0.5),\n",
    "        iaa.Affine(\n",
    "            scale={\"x\": (0.9, 1.1), \"y\": (0.9, 1.1)}, \n",
    "            translate_percent={\"x\": (-0.1, 0.1), \"y\": (-0.1, 0.1)}, \n",
    "            mode='symmetric'\n",
    "        ),\n",
    "        iaa.MultiplySaturation((0.2, 1.3)),\n",
    "        iaa.AddToHue((-255, 255))\n",
    "    ])\n",
    "\n",
    "plot_dataset(no_shape_change(), start, n, m)"
   ]
  },
  {
   "cell_type": "code",
   "execution_count": null,
   "id": "c0c25ee9",
   "metadata": {},
   "outputs": [],
   "source": []
  }
 ],
 "metadata": {
  "kernelspec": {
   "display_name": "Python 3 (ipykernel)",
   "language": "python",
   "name": "python3"
  },
  "language_info": {
   "codemirror_mode": {
    "name": "ipython",
    "version": 3
   },
   "file_extension": ".py",
   "mimetype": "text/x-python",
   "name": "python",
   "nbconvert_exporter": "python",
   "pygments_lexer": "ipython3",
   "version": "3.8.10"
  }
 },
 "nbformat": 4,
 "nbformat_minor": 5
}
